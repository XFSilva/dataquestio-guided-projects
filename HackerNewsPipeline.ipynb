{
 "cells": [
  {
   "cell_type": "markdown",
   "metadata": {},
   "source": [
    "## Guided Project: Hacker News Pipeline\n",
    "* **About:** We will build a python pipeline to run a sequence of basic natural language processing tasks on a dataset from Hacker News top stories in 2014.\n",
    "* **Goal:** Find the top 100 keywords of Hacker News posts in 2014."
   ]
  },
  {
   "cell_type": "code",
   "execution_count": 1,
   "metadata": {},
   "outputs": [],
   "source": [
    "##########################\n",
    "# Importing Pipeline class\n",
    "##########################\n",
    "from pipeline import Pipeline\n",
    "pipeline = Pipeline()"
   ]
  },
  {
   "cell_type": "code",
   "execution_count": 2,
   "metadata": {},
   "outputs": [],
   "source": [
    "#######################\n",
    "# Loading the JSON Data\n",
    "#######################\n",
    "import json\n",
    "@pipeline.task()\n",
    "def file_to_json():\n",
    "    file = open(\"hn_stories_2014.json\")\n",
    "    \n",
    "    #returning a list of dict objects\n",
    "    return json.load(file)[\"stories\"]"
   ]
  },
  {
   "cell_type": "code",
   "execution_count": 3,
   "metadata": {},
   "outputs": [],
   "source": [
    "####################################\n",
    "# Filtering the most popular stories\n",
    "####################################\n",
    "@pipeline.task(depends_on=file_to_json)\n",
    "def filter_stories(stories):\n",
    "    #returning a generator of dict objects\n",
    "    for story in stories:\n",
    "        if not story[\"title\"].lower().startswith('ask hn'):\n",
    "            if story[\"points\"] > 50:\n",
    "                if story[\"num_comments\"] > 1:\n",
    "                    yield story"
   ]
  },
  {
   "cell_type": "code",
   "execution_count": 4,
   "metadata": {},
   "outputs": [],
   "source": [
    "################\n",
    "# Convert to CSV\n",
    "################\n",
    "from pipeline import build_csv\n",
    "import io\n",
    "from datetime import datetime\n",
    "@pipeline.task(depends_on=filter_stories)\n",
    "def json_to_csv(stories_filtered):\n",
    "    \n",
    "    # building a generator kepping only the relevant fields\n",
    "    lines = ([story[\"objectID\"],\n",
    "              #Parsing the created_at field using datetime.datetime\n",
    "              datetime.strptime(story[\"created_at\"], \"%Y-%m-%dT%H:%M:%SZ\"),\n",
    "              story[\"url\"],\n",
    "              story[\"points\"],\n",
    "              story[\"title\"]] for story in stories_filtered\n",
    "             )\n",
    "    \n",
    "    #returning the file object\n",
    "    return build_csv(lines,\n",
    "                     header=['objectID', 'created_at', 'url', 'points', 'title'],\n",
    "                     file = io.StringIO()\n",
    "                    )"
   ]
  },
  {
   "cell_type": "code",
   "execution_count": 5,
   "metadata": {},
   "outputs": [],
   "source": [
    "######################\n",
    "# Extract Title Column\n",
    "######################\n",
    "import csv\n",
    "@pipeline.task(depends_on=json_to_csv)\n",
    "def extract_titles(file):\n",
    "    reader = csv.reader(file)\n",
    "    next(reader) # skiping the header\n",
    "    \n",
    "    #returning a generator of str objects\n",
    "    return (line[4] for line in reader)"
   ]
  },
  {
   "cell_type": "code",
   "execution_count": 6,
   "metadata": {},
   "outputs": [],
   "source": [
    "# Clean the Titles\n",
    "@pipeline.task(depends_on=extract_titles)\n",
    "def clean_titles(titles):\n",
    "    for title in titles:\n",
    "        \n",
    "        # converting each title to lower case\n",
    "        title = title.lower()\n",
    "        \n",
    "        # removing punctuation from each title using string.punctuation\n",
    "        cleaned_string = \"\"\n",
    "        for char in title:\n",
    "            if char not in string.punctuation:\n",
    "                cleaned_string += char\n",
    "        \n",
    "        #returning a generator of str objects\n",
    "        yield cleaned_string"
   ]
  },
  {
   "cell_type": "code",
   "execution_count": 7,
   "metadata": {},
   "outputs": [],
   "source": [
    "# Create the Word Frequency Dictionary\n",
    "from stop_words import stop_words\n",
    "import string\n",
    "\n",
    "@pipeline.task(depends_on=clean_titles)\n",
    "def build_keyword_dictionary(cleaned_titles):\n",
    "    keyword_dictionary = {}\n",
    "    \n",
    "    for title in cleaned_titles:\n",
    "        for word in title.split():\n",
    "            if word and word not in stop_words:\n",
    "                if word not in keyword_dictionary:\n",
    "                    keyword_dictionary[word] = 0\n",
    "                keyword_dictionary[word.lower()] += 1\n",
    "    return keyword_dictionary"
   ]
  },
  {
   "cell_type": "code",
   "execution_count": 8,
   "metadata": {},
   "outputs": [],
   "source": [
    "# Sort the Top Words\n",
    "@pipeline.task(depends_on=build_keyword_dictionary)\n",
    "def get_top_words(keyword_dictionary):\n",
    "    list_words = []\n",
    "    \n",
    "    # converting dictionary to list\n",
    "    for word, frequency in keyword_dictionary.items():\n",
    "        list_words.append((word, frequency))\n",
    "    \n",
    "    # sorting the list from most used to least used\n",
    "    return sorted(list_words, key=lambda tup: tup[1], reverse=True)[:100]"
   ]
  },
  {
   "cell_type": "code",
   "execution_count": 9,
   "metadata": {},
   "outputs": [
    {
     "name": "stdout",
     "output_type": "stream",
     "text": [
      "[('new', 185), ('google', 167), ('bitcoin', 101), ('open', 92), ('programming', 90), ('web', 88), ('data', 85), ('video', 79), ('python', 76), ('code', 72), ('facebook', 71), ('released', 71), ('using', 70), ('2013', 65), ('javascript', 65), ('free', 64), ('source', 64), ('game', 63), ('internet', 62), ('microsoft', 59), ('c', 59), ('linux', 58), ('app', 57), ('pdf', 55), ('work', 54), ('language', 54), ('software', 52), ('2014', 52), ('startup', 51), ('apple', 50), ('use', 50), ('make', 50), ('time', 48), ('yc', 48), ('security', 48), ('nsa', 45), ('github', 45), ('windows', 44), ('1', 41), ('world', 41), ('way', 41), ('like', 41), ('project', 40), ('computer', 40), ('heartbleed', 40), ('git', 37), ('users', 37), ('dont', 37), ('design', 37), ('ios', 37), ('developer', 36), ('os', 36), ('twitter', 36), ('ceo', 36), ('vs', 36), ('life', 36), ('big', 35), ('day', 35), ('android', 34), ('online', 34), ('years', 33), ('simple', 33), ('court', 33), ('guide', 32), ('learning', 32), ('mt', 32), ('api', 32), ('says', 32), ('apps', 32), ('browser', 32), ('server', 31), ('firefox', 31), ('fast', 31), ('amazon', 31), ('gox', 31), ('problem', 31), ('mozilla', 31), ('engine', 31), ('site', 31), ('introducing', 30), ('year', 30), ('support', 29), ('stop', 29), ('built', 29), ('better', 29), ('million', 29), ('people', 29), ('text', 29), ('3', 28), ('does', 28), ('tech', 28), ('development', 28), ('billion', 27), ('developers', 27), ('just', 27), ('library', 27), ('did', 27), ('website', 27), ('money', 27), ('inside', 27)]\n"
     ]
    }
   ],
   "source": [
    "# running the pipeline\n",
    "completed = pipeline.run()\n",
    "print(completed[get_top_words])"
   ]
  },
  {
   "cell_type": "markdown",
   "metadata": {},
   "source": [
    "## Assessement\n",
    "* Some of the most relevant keywords of Hacker News posts in 2014:\n",
    "    * google\n",
    "    * bitcoin\n",
    "    * web\n",
    "    * data\n",
    "    * python\n",
    "    * facebook\n",
    "    * javascript"
   ]
  },
  {
   "cell_type": "code",
   "execution_count": null,
   "metadata": {},
   "outputs": [],
   "source": []
  }
 ],
 "metadata": {
  "anaconda-cloud": {},
  "kernelspec": {
   "display_name": "Python 3 (ipykernel)",
   "language": "python",
   "name": "python3"
  },
  "language_info": {
   "codemirror_mode": {
    "name": "ipython",
    "version": 3
   },
   "file_extension": ".py",
   "mimetype": "text/x-python",
   "name": "python",
   "nbconvert_exporter": "python",
   "pygments_lexer": "ipython3",
   "version": "3.9.12"
  }
 },
 "nbformat": 4,
 "nbformat_minor": 1
}
